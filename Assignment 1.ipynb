{
 "cells": [
  {
   "cell_type": "raw",
   "id": "da070f85",
   "metadata": {},
   "source": [
    "1. In the below elements which of them are values or an expression? eg:- values can be integer or string and expressions will be mathematical operators.\n",
    "* - Expression\n",
    "    'hello' - Value\n",
    "    -87.8   - Value\n",
    "    -       - Expression\n",
    "    /       - Expression\n",
    "    +\t    - Expression\n",
    "    6       - Value\n"
   ]
  },
  {
   "cell_type": "markdown",
   "id": "1d6241f9",
   "metadata": {},
   "source": [
    "2.What is the difference between string and variable?\n",
    "\n",
    "Variables -They are not data itself, they are symbols which are used to store various datatypes.\n",
    "\n",
    "String - String is data and a datatype itself and enclosed with single/doublecodes, for example - 'Delhi', \"Get this done\" etc."
   ]
  },
  {
   "cell_type": "raw",
   "id": "970f66e7",
   "metadata": {},
   "source": [
    "3. Describe three different data types.\n",
    "\n",
    "a. Integer - integer is a datatype which can be represented as a whole number for example - 3, 5, 67 etc\n",
    "b. Float - Float is a real number/ not a whole number for example - 2.5, 8.6 etc\n",
    "c. String - String is represented by characters or anything enclosed within single/doublecodes.\n",
    "d. List - List is a collection of data enclosed within [], and it can be read by it's indices.\n",
    "e. Tuple - Tuple is the collection of data enclosed within (), and it can't be altered by indices.\n",
    "f. Dictionary - Dictionary is the collection of data in key-value pairs, enclosed within {}."
   ]
  },
  {
   "cell_type": "raw",
   "id": "62c2789a",
   "metadata": {},
   "source": [
    "4. What is an expression made up of? What do all expressions do?\n",
    "\n",
    "An expression is a combination of operators and operands, which generates some desired value when interpreted.\n"
   ]
  },
  {
   "cell_type": "raw",
   "id": "4f256f9f",
   "metadata": {},
   "source": [
    "5. This assignment statements, like spam = 10. What is the difference between an expression and a statement?\n",
    "\n",
    "In assignment statement spam =10, we have defines a variable as spam and we are assigning it a value which is 10.\n",
    "Difference between statement and expression is that we assign some value to a variable in statement, while not in expression. Expression is to calculate or apply some operations on operands like (3+4)*2/4 this is an expression. But if we assign this expression's outcome to some variable that would be called as a statement like A = (3+4)*2/4. This is a statement."
   ]
  },
  {
   "cell_type": "code",
   "execution_count": 3,
   "id": "dffa0974",
   "metadata": {},
   "outputs": [
    {
     "data": {
      "text/plain": [
       "23"
      ]
     },
     "execution_count": 3,
     "metadata": {},
     "output_type": "execute_result"
    }
   ],
   "source": [
    "##6. After running the following code, what does the variable bacon contain?\n",
    "bacon = 22\n",
    "bacon + 1\n"
   ]
  },
  {
   "cell_type": "code",
   "execution_count": 4,
   "id": "800370e4",
   "metadata": {},
   "outputs": [
    {
     "data": {
      "text/plain": [
       "22"
      ]
     },
     "execution_count": 4,
     "metadata": {},
     "output_type": "execute_result"
    }
   ],
   "source": [
    "bacon"
   ]
  },
  {
   "cell_type": "code",
   "execution_count": null,
   "id": "a5728b28",
   "metadata": {
    "collapsed": true
   },
   "outputs": [],
   "source": [
    "# Bacon contains 22 only, as we assigned that value to the variable bacon."
   ]
  },
  {
   "cell_type": "raw",
   "id": "e856b75d",
   "metadata": {},
   "source": [
    "#7. What should the values of the following two terms be?\n",
    "'spam' + 'spamspam'\n",
    "'spam' * 3\n"
   ]
  },
  {
   "cell_type": "code",
   "execution_count": 7,
   "id": "1a6f4c41",
   "metadata": {},
   "outputs": [
    {
     "data": {
      "text/plain": [
       "'spamspamspam'"
      ]
     },
     "execution_count": 7,
     "metadata": {},
     "output_type": "execute_result"
    }
   ],
   "source": [
    "'spam'+ 'spamspam'"
   ]
  },
  {
   "cell_type": "code",
   "execution_count": 8,
   "id": "13856cc8",
   "metadata": {},
   "outputs": [
    {
     "data": {
      "text/plain": [
       "'spamspamspam'"
      ]
     },
     "execution_count": 8,
     "metadata": {},
     "output_type": "execute_result"
    }
   ],
   "source": [
    "'spam'*3"
   ]
  },
  {
   "cell_type": "raw",
   "id": "43ac86ec",
   "metadata": {},
   "source": [
    "8. Why is eggs a valid variable name while 100 is invalid?\n",
    "\n",
    "Eggs is a variable as it's not a value in itself and we can assign any other value to eggs, while 100 is an integer and it's a value in itself.So, we can't assign any other value to 100"
   ]
  },
  {
   "cell_type": "code",
   "execution_count": 10,
   "id": "153beb6d",
   "metadata": {},
   "outputs": [],
   "source": [
    "eggs = 3"
   ]
  },
  {
   "cell_type": "code",
   "execution_count": 11,
   "id": "3e24fba5",
   "metadata": {},
   "outputs": [
    {
     "data": {
      "text/plain": [
       "3"
      ]
     },
     "execution_count": 11,
     "metadata": {},
     "output_type": "execute_result"
    }
   ],
   "source": [
    "eggs\n"
   ]
  },
  {
   "cell_type": "code",
   "execution_count": 13,
   "id": "4491c8b9",
   "metadata": {},
   "outputs": [
    {
     "ename": "SyntaxError",
     "evalue": "cannot assign to literal (Temp/ipykernel_7452/3739323269.py, line 1)",
     "output_type": "error",
     "traceback": [
      "\u001b[1;36m  File \u001b[1;32m\"C:\\Users\\acer\\AppData\\Local\\Temp/ipykernel_7452/3739323269.py\"\u001b[1;36m, line \u001b[1;32m1\u001b[0m\n\u001b[1;33m    100 = a\u001b[0m\n\u001b[1;37m    ^\u001b[0m\n\u001b[1;31mSyntaxError\u001b[0m\u001b[1;31m:\u001b[0m cannot assign to literal\n"
     ]
    }
   ],
   "source": [
    "100 = a"
   ]
  },
  {
   "cell_type": "raw",
   "id": "884269a7",
   "metadata": {},
   "source": [
    "9. What three functions can be used to get the integer, floating-point number, or string version of a value?\n",
    "\n",
    "int(), float(), str() functions are used to get integer, floating point number and string version of a value respectively."
   ]
  },
  {
   "cell_type": "raw",
   "id": "5ce8194e",
   "metadata": {},
   "source": [
    "10. Why does this expression cause an error? How can you fix it?\n",
    "'I have eaten ' + 99 + ' burritos.'\n",
    "\n",
    "This expression has caused an error because of the diffrenet datatypes of the operands. We can fix it by typecasting as below.\n",
    "\n"
   ]
  },
  {
   "cell_type": "code",
   "execution_count": 17,
   "id": "e4f70502",
   "metadata": {},
   "outputs": [
    {
     "data": {
      "text/plain": [
       "'I have eaten99burritos'"
      ]
     },
     "execution_count": 17,
     "metadata": {},
     "output_type": "execute_result"
    }
   ],
   "source": [
    "'I have eaten'+  '99'  + 'burritos'"
   ]
  },
  {
   "cell_type": "code",
   "execution_count": null,
   "id": "b567310c",
   "metadata": {},
   "outputs": [],
   "source": []
  }
 ],
 "metadata": {
  "kernelspec": {
   "display_name": "Python 3 (ipykernel)",
   "language": "python",
   "name": "python3"
  },
  "language_info": {
   "codemirror_mode": {
    "name": "ipython",
    "version": 3
   },
   "file_extension": ".py",
   "mimetype": "text/x-python",
   "name": "python",
   "nbconvert_exporter": "python",
   "pygments_lexer": "ipython3",
   "version": "3.9.7"
  }
 },
 "nbformat": 4,
 "nbformat_minor": 5
}
